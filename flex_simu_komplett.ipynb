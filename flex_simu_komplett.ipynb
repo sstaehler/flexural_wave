{
 "cells": [
  {
   "cell_type": "code",
   "execution_count": 2,
   "id": "c02b054c",
   "metadata": {},
   "outputs": [
    {
     "ename": "ModuleNotFoundError",
     "evalue": "No module named 'shapely'",
     "output_type": "error",
     "traceback": [
      "\u001b[0;31m---------------------------------------------------------------------------\u001b[0m",
      "\u001b[0;31mModuleNotFoundError\u001b[0m                       Traceback (most recent call last)",
      "\u001b[0;32m<ipython-input-2-f643cbcadd48>\u001b[0m in \u001b[0;36m<module>\u001b[0;34m\u001b[0m\n\u001b[1;32m     11\u001b[0m \u001b[0;32mfrom\u001b[0m \u001b[0mipywidgets\u001b[0m \u001b[0;32mimport\u001b[0m \u001b[0minteract\u001b[0m\u001b[0;34m,\u001b[0m \u001b[0minteract_manual\u001b[0m\u001b[0;34m\u001b[0m\u001b[0;34m\u001b[0m\u001b[0m\n\u001b[1;32m     12\u001b[0m \u001b[0;32mimport\u001b[0m \u001b[0mnumpy\u001b[0m \u001b[0;32mas\u001b[0m \u001b[0mnp\u001b[0m\u001b[0;34m\u001b[0m\u001b[0;34m\u001b[0m\u001b[0m\n\u001b[0;32m---> 13\u001b[0;31m \u001b[0;32mfrom\u001b[0m \u001b[0mshapely\u001b[0m\u001b[0;34m.\u001b[0m\u001b[0mgeometry\u001b[0m \u001b[0;32mimport\u001b[0m \u001b[0mLineString\u001b[0m\u001b[0;34m\u001b[0m\u001b[0;34m\u001b[0m\u001b[0m\n\u001b[0m\u001b[1;32m     14\u001b[0m \u001b[0;32mimport\u001b[0m \u001b[0mmatplotlib\u001b[0m\u001b[0;34m\u001b[0m\u001b[0;34m\u001b[0m\u001b[0m\n\u001b[1;32m     15\u001b[0m \u001b[0;32mimport\u001b[0m \u001b[0mmatplotlib\u001b[0m\u001b[0;34m.\u001b[0m\u001b[0mticker\u001b[0m \u001b[0;32mas\u001b[0m \u001b[0mmticker\u001b[0m\u001b[0;34m\u001b[0m\u001b[0;34m\u001b[0m\u001b[0m\n",
      "\u001b[0;31mModuleNotFoundError\u001b[0m: No module named 'shapely'"
     ]
    }
   ],
   "source": [
    "import matplotlib.pyplot as plt\n",
    "import numpy as np\n",
    "# Enable interactive plot\n",
    "\n",
    "%matplotlib inline\n",
    "%config InlineBackend.figure_format = 'retina'\n",
    "%matplotlib notebook\n",
    "\n",
    "import matplotlib.pyplot as plt\n",
    "from matplotlib.animation import FuncAnimation\n",
    "from ipywidgets import interact, interact_manual\n",
    "import numpy as np\n",
    "from shapely.geometry import LineString\n",
    "import matplotlib\n",
    "import matplotlib.ticker as mticker\n",
    "import cmath"
   ]
  },
  {
   "cell_type": "code",
   "execution_count": null,
   "id": "186d2168",
   "metadata": {},
   "outputs": [],
   "source": [
    " "
   ]
  },
  {
   "cell_type": "code",
   "execution_count": null,
   "id": "d4e1f88f",
   "metadata": {},
   "outputs": [],
   "source": [
    "def calc_speed(f,E):\n",
    "    sigma = 0.33\n",
    "    \n",
    "    g  =9.81\n",
    "    p_ice  =917\n",
    "    v_p2 =E / (p_ice *  (1 - sigma**2))\n",
    "    p_water = 1000\n",
    "    c = np.arange(10,1500,1).astype(float)\n",
    "    # c = 1000\n",
    "    a = v_p2 * np.pi**2 * f**2 * H**3 * p_ice / (3*p_water)\n",
    "    b =  (p_ice / p_water * H - g / (4*np.pi**2*f**2))\n",
    "    d = np.zeros((1490,1))\n",
    "    e = np.zeros((1490,1))\n",
    "    velocity = np.zeros((270,1))\n",
    "    \n",
    "    for i in range(len(c)):\n",
    "        d[i] = c[i]**5 /(2 * np.pi * f)\n",
    "        e[i] = (a-b*c[i]**4 ) * abs(cmath.sqrt(1 - c[i]**2 / 1440**2))\n",
    "        \n",
    "    \n",
    "    line_1 = LineString(np.column_stack((c,d)))\n",
    "    line_2 = LineString(np.column_stack((c,e)))\n",
    "    \n",
    "    intersection = line_1.intersection(line_2)\n",
    "    return intersection.xy[0]"
   ]
  },
  {
   "cell_type": "code",
   "execution_count": null,
   "id": "ab11f890",
   "metadata": {},
   "outputs": [],
   "source": [
    "def animate(iframe):\n",
    "    i=0\n",
    "    for indx,freq in enumerate(frequency):\n",
    "        #--------------------------------------------------------------------\n",
    "        # ICE\n",
    "        #--------------------------------------------------------------------\n",
    "        omega = freq * np.pi * 2\n",
    "        k_ice = omega / c_ice[indx]\n",
    "\n",
    "        k_air = omega / c_air\n",
    "\n",
    "        kx = k_ice\n",
    "        ky = np.sqrt(k_air**2 - kx**2 + 0j)  #?\n",
    "        \n",
    "        \n",
    "\n",
    "        dx = 0.01\n",
    "        x = np.arange(0, xmax, dx)\n",
    "        xx, yy = np.meshgrid(x_air, y_air)\n",
    "\n",
    "        t = iframe * dt\n",
    "\n",
    "        #y = np.exp(-1j * (omega*t - kx*x -ky*y))\n",
    "        u_ice = np.real(np.exp(-1j * (omega*t - k_ice*x))) * (abs(ky)/k_air) * 10\n",
    "        if i==0:\n",
    "            u_tot = np.zeros((len(u_ice)))\n",
    "            i=1\n",
    "        u_tot +=u_ice\n",
    "        #--------------------------------------------------------------------\n",
    "        # ATHMOSPHERE\n",
    "        #--------------------------------------------------------------------\n",
    "        disp_u = np.real(np.exp(-1j * (omega*t - kx*xx -ky*yy))) * 10\n",
    "        disp_v = np.real(np.exp(-1j * (np.pi/2. + omega*t - kx*xx -ky*yy))) * 10\n",
    "\n",
    "        if i==1:\n",
    "            disp_u_tot = np.zeros(disp_u.shape)\n",
    "            disp_v_tot = np.zeros(disp_v.shape)\n",
    "            i=2\n",
    "        disp_u_tot +=disp_u\n",
    "        disp_v_tot +=disp_v\n",
    "\n",
    "        if kx < k_air: #Plane Wave\n",
    "            disp_x = disp_u_tot * (kx/k_air)\n",
    "            disp_y = disp_u_tot * (np.real(ky)/k_air)\n",
    "        else: # Evanecent Wave\n",
    "            disp_x =  disp_u_tot * (kx/k_air)\n",
    "            disp_y =  -disp_v_tot * (abs(ky)/k_air)\n",
    "\n",
    "        if i==2:\n",
    "            disp_x_tot = np.zeros(disp_x.shape)\n",
    "            disp_y_tot = np.zeros(disp_y.shape)\n",
    "            i=3\n",
    "\n",
    "        disp_x_tot +=disp_x\n",
    "        disp_y_tot +=disp_y\n",
    "\n",
    "\n",
    "    scat.set_data(((xx + disp_x_tot).flatten(), \n",
    "                       (yy + disp_y_tot).flatten()))\n",
    "\n",
    "    line.set_data((x, u_tot))\n",
    "    \n",
    "    \n",
    "        \n",
    "    return "
   ]
  },
  {
   "cell_type": "code",
   "execution_count": null,
   "id": "9dea6002",
   "metadata": {},
   "outputs": [],
   "source": [
    "frequency = np.arange(65,75,1)\n",
    "velocity = np.zeros((len(frequency),1))\n",
    "E = [6.5e9]\n",
    "H  =0.5\n",
    "\n",
    "        \n",
    "\n",
    "for E in(E):\n",
    "    for i in range(len(frequency)):\n",
    "        velocity[i] = calc_speed(frequency[i],E)\n",
    "        \n",
    "c_ice = velocity\n",
    "#frequency =  [5,6,7,8,9]\n",
    "#c_ice = [900,900,900,900,900]\n"
   ]
  },
  {
   "cell_type": "code",
   "execution_count": null,
   "id": "562b954c",
   "metadata": {},
   "outputs": [],
   "source": [
    "c_air = 330.\n",
    "dt = 0.005\n",
    "xmax = 200\n",
    "ymax = 300\n",
    "x_air = np.linspace(0, xmax, 80*2)\n",
    "y_air = np.linspace(0, ymax, 40*2) "
   ]
  },
  {
   "cell_type": "code",
   "execution_count": null,
   "id": "ff94c84b",
   "metadata": {},
   "outputs": [],
   "source": [
    "fig, ax = plt.subplots(figsize=(12, 7))\n",
    "line, = ax.plot([], lw=3)     # A tuple unpacking to unpack the only plot\n",
    "scat, = ax.plot([], '.', lw=0, ms=4) \n",
    "ax.set_xlim(0, xmax)\n",
    "ax.set_ylim(-10, ymax)\n",
    "ax.set_aspect('equal', 'box')\n",
    "plt.tight_layout()\n",
    "\n",
    "\n",
    "anim = FuncAnimation(fig, animate, frames=100, interval=20)\n",
    "plt.show()"
   ]
  },
  {
   "cell_type": "code",
   "execution_count": null,
   "id": "cfd0c854",
   "metadata": {},
   "outputs": [],
   "source": [
    "frequency"
   ]
  },
  {
   "cell_type": "code",
   "execution_count": null,
   "id": "40467c74",
   "metadata": {},
   "outputs": [],
   "source": [
    "\n"
   ]
  },
  {
   "cell_type": "code",
   "execution_count": null,
   "id": "bb1d1dc2",
   "metadata": {},
   "outputs": [],
   "source": [
    "c_ice"
   ]
  },
  {
   "cell_type": "code",
   "execution_count": null,
   "id": "7229544c",
   "metadata": {},
   "outputs": [],
   "source": []
  },
  {
   "cell_type": "code",
   "execution_count": null,
   "id": "ab24cdb2",
   "metadata": {},
   "outputs": [],
   "source": [
    "freq = 4        \n",
    "omega = freq * np.pi * 2\n",
    "k_ice = omega / c_ice\n",
    "k_air = omega / c_air\n",
    "\n",
    "kx = k_ice\n",
    "ky = np.sqrt(k_air**2 - kx**2 + 0j)  #?\n",
    "\n",
    "\n",
    "dx = 0.01\n",
    "x = np.arange(0, xmax, dx)\n",
    "\n",
    "xx, yy = np.meshgrid(x_air, y_air)\n",
    "\n",
    "t = 2 * dt\n",
    "\n",
    "#y = np.exp(-1j * (omega*t - kx*x -ky*y))\n",
    "u_ice = np.real(np.exp(-1j * (omega*t - k_ice*x))) * (abs(ky)/k_air) * 10\n",
    "    \n",
    "\n",
    "line.set_data((x, u_tot))\n"
   ]
  },
  {
   "cell_type": "code",
   "execution_count": null,
   "id": "3ca44b71",
   "metadata": {},
   "outputs": [],
   "source": [
    "fig, ax = plt.subplots(figsize=(12, 7))\n",
    "\n",
    "ax.plot(x,u_ice)"
   ]
  },
  {
   "cell_type": "code",
   "execution_count": null,
   "id": "d062305e",
   "metadata": {},
   "outputs": [],
   "source": [
    "i=0\n",
    "for indx,freq in enumerate(frequency):\n",
    "        \n",
    "    omega = freq * np.pi * 2\n",
    "    k_ice = omega / c_ice[indx]\n",
    "\n",
    "    k_air = omega / c_air\n",
    "\n",
    "    kx = k_ice\n",
    "    ky = np.sqrt(k_air**2 - kx**2 + 0j)  #?\n",
    "\n",
    "\n",
    "    dx = 0.01\n",
    "    x = np.arange(0, xmax, dx)\n",
    "\n",
    "    xx, yy = np.meshgrid(x_air, y_air)\n",
    "\n",
    "    t = 1 * dt\n",
    "\n",
    "    #y = np.exp(-1j * (omega*t - kx*x -ky*y))\n",
    "    u_ice = np.real(np.exp(-1j * (omega*t - k_ice*x))) * (abs(ky)/k_air) * 10\n",
    "    if i==0:\n",
    "        u_tot = np.zeros((len(u_ice)))\n",
    "        i=1\n",
    "    u_tot +=u_ice\n",
    "    #--------------------------------------------------------------------\n",
    "    disp_u = np.real(np.exp(-1j * (omega*t - kx*xx -ky*yy))) * 10\n",
    "    disp_v = np.real(np.exp(-1j * (np.pi/2. + omega*t - kx*xx -ky*yy))) * 10\n",
    "        \n",
    "    if i==1:\n",
    "        disp_u_tot = np.zeros(disp_u.shape)\n",
    "        disp_v_tot = np.zeros(disp_v.shape)\n",
    "        i=2\n",
    "    disp_u_tot +=disp_u\n",
    "    disp_v_tot +=disp_v\n",
    "        \n",
    "    if kx < k_air: #Plane Wave\n",
    "        disp_x = disp_u_tot * (kx/k_air)\n",
    "        disp_y = disp_u_tot * (np.real(ky)/k_air)\n",
    "    else: # Evanecent Wave\n",
    "        disp_x =  disp_u_tot * (kx/k_air)\n",
    "        disp_y =  -disp_v_tot * (abs(ky)/k_air)\n",
    "            \n",
    "    if i==2:\n",
    "        disp_x_tot = np.zeros(disp_x.shape)\n",
    "        disp_y_tot = np.zeros(disp_y.shape)\n",
    "        i=3\n",
    "            \n",
    "    disp_x_tot +=disp_x\n",
    "    disp_y_tot +=disp_y\n",
    "\n",
    "            \n",
    "            \n",
    "\n",
    "scat.set_data(((xx + disp_x_tot).flatten(), \n",
    "                   (yy + disp_y_tot).flatten()))\n",
    "    \n",
    "line.set_data((x, u_tot))"
   ]
  },
  {
   "cell_type": "code",
   "execution_count": null,
   "id": "d2ee2fa9",
   "metadata": {},
   "outputs": [],
   "source": [
    "disp_u_tot = np.zeros(disp_u.shape)\n"
   ]
  },
  {
   "cell_type": "code",
   "execution_count": null,
   "id": "1f8fb4c3",
   "metadata": {},
   "outputs": [],
   "source": [
    "disp_u_tot.shape"
   ]
  },
  {
   "cell_type": "code",
   "execution_count": null,
   "id": "f1cec453",
   "metadata": {},
   "outputs": [],
   "source": []
  }
 ],
 "metadata": {
  "kernelspec": {
   "display_name": "Python 3",
   "language": "python",
   "name": "python3"
  },
  "language_info": {
   "codemirror_mode": {
    "name": "ipython",
    "version": 3
   },
   "file_extension": ".py",
   "mimetype": "text/x-python",
   "name": "python",
   "nbconvert_exporter": "python",
   "pygments_lexer": "ipython3",
   "version": "3.8.8"
  }
 },
 "nbformat": 4,
 "nbformat_minor": 5
}
